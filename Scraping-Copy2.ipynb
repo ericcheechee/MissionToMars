{
 "cells": [
  {
   "cell_type": "code",
   "execution_count": 8,
   "metadata": {},
   "outputs": [],
   "source": [
    "from splinter import Browser\n",
    "from bs4 import BeautifulSoup as bs\n",
    "import requests\n",
    "import time\n",
    "import pandas as pd "
   ]
  },
  {
   "cell_type": "code",
   "execution_count": 9,
   "metadata": {},
   "outputs": [],
   "source": [
    "url = 'https://mars.nasa.gov/news/?page=0&per_page=40&order=publish_date+desc%2Ccreated_at+desc&search=&category=19%2C165%2C184%2C204&blank_scope=Latest'\n",
    "response = requests.get(url)\n",
    "headlines_soup = bs(response.text, 'html.parser')\n"
   ]
  },
  {
   "cell_type": "code",
   "execution_count": 10,
   "metadata": {},
   "outputs": [],
   "source": [
    "headline = headlines_soup.find_all('div', class_ = 'content_title')[0].text.strip()\n",
    "pargraphs = headlines_soup.find_all('div', class_ = 'image_and_description_container')[0].text.strip()"
   ]
  },
  {
   "cell_type": "code",
   "execution_count": 11,
   "metadata": {},
   "outputs": [
    {
     "name": "stdout",
     "output_type": "stream",
     "text": [
      "NASA's Opportunity Rover Mission on Mars Comes to End\n",
      "NASA's Opportunity Mars rover mission is complete after 15 years on Mars. Opportunity's record-breaking exploration laid the groundwork for future missions to the Red Planet.\n"
     ]
    }
   ],
   "source": [
    "print(headline)\n",
    "print(pargraphs)"
   ]
  },
  {
   "cell_type": "code",
   "execution_count": 12,
   "metadata": {},
   "outputs": [
    {
     "name": "stdout",
     "output_type": "stream",
     "text": [
      "/c/Users/ericc/bin/chromedriver\n"
     ]
    }
   ],
   "source": [
    "!which chromedriver"
   ]
  },
  {
   "cell_type": "code",
   "execution_count": 13,
   "metadata": {},
   "outputs": [],
   "source": [
    "executable_path = {'executable_path': '/Users/ericc/bin/chromedriver'}\n",
    "browser = Browser('chrome', **executable_path, headless=False)"
   ]
  },
  {
   "cell_type": "code",
   "execution_count": 14,
   "metadata": {},
   "outputs": [],
   "source": [
    "space_images = 'https://www.jpl.nasa.gov/spaceimages/?search=&category=Mars'\n",
    "browser.visit(space_images)"
   ]
  },
  {
   "cell_type": "code",
   "execution_count": 15,
   "metadata": {},
   "outputs": [],
   "source": [
    "html = browser.html\n",
    "picture_soup = BeautifulSoup(html, 'html.parser')\n",
    "\n",
    "link = picture_soup.find('a',class_='button fancybox')\n",
    "picture = link['data-fancybox-href']"
   ]
  },
  {
   "cell_type": "code",
   "execution_count": 16,
   "metadata": {},
   "outputs": [
    {
     "name": "stdout",
     "output_type": "stream",
     "text": [
      "<a class=\"button fancybox\" data-description=\"A Martian rock in the 'Yellowknife Bay' area of Mars' Gale Crater is illuminated by white-light light emitting diodes.\" data-fancybox-group=\"images\" data-fancybox-href=\"/spaceimages/images/mediumsize/PIA16711_ip.jpg\" data-link=\"/spaceimages/details.php?id=PIA16711\" data-title=\"MAHLI's First Night Imaging of Martian Rock, White Lighting\" id=\"full_image\">\n",
      "\t\t\t\t\tFULL IMAGE\n",
      "\t\t\t\t  </a>\n",
      "/spaceimages/images/mediumsize/PIA16711_ip.jpg\n"
     ]
    }
   ],
   "source": [
    "print(link)\n",
    "print(picture)"
   ]
  },
  {
   "cell_type": "code",
   "execution_count": null,
   "metadata": {},
   "outputs": [],
   "source": [
    "present_image = 'https://www.jpl.nasa.gov' + picture"
   ]
  },
  {
   "cell_type": "code",
   "execution_count": 19,
   "metadata": {},
   "outputs": [],
   "source": [
    "twitter = 'https://twitter.com/marswxreport?lang=en'\n",
    "browser.visit(twitter)\n",
    "html = browser.html\n",
    "tweet_soup = bs(html, 'html.parser')"
   ]
  },
  {
   "cell_type": "code",
   "execution_count": 20,
   "metadata": {},
   "outputs": [],
   "source": [
    "weather = tweet_soup.find_all('p', class_='TweetTextSize TweetTextSize--normal js-tweet-text tweet-text')[0].text.strip()"
   ]
  },
  {
   "cell_type": "code",
   "execution_count": 21,
   "metadata": {},
   "outputs": [
    {
     "name": "stdout",
     "output_type": "stream",
     "text": [
      "InSight sol 92 (2019-03-01) low -94.4ºC (-137.9ºF) high -12.9ºC (8.8ºF)\n",
      "winds from the SW at 4.6 m/s (10.2 mph) gusting to 10.4 m/s (23.2 mph)\n",
      "pressure at 7.20 hPapic.twitter.com/zxXhRFOwTo\n"
     ]
    }
   ],
   "source": [
    "print(weather)"
   ]
  },
  {
   "cell_type": "code",
   "execution_count": 22,
   "metadata": {},
   "outputs": [],
   "source": [
    "facts = 'https://space-facts.com/mars/'\n",
    "marsfacts = pd.read_html(facts)\n",
    "marsfacts_pd = marsfacts[0]\n",
    "marsfacts_pd = marsfacts_pd.rename(columns={0:'Description',1:'Value'})\n",
    "marsfacts_pd = marsfacts_pd.set_index('Description')\n",
    "marsfacts_pd.to_html('marsfacts.html')"
   ]
  },
  {
   "cell_type": "code",
   "execution_count": 49,
   "metadata": {},
   "outputs": [
    {
     "name": "stdout",
     "output_type": "stream",
     "text": [
      "[<h3>Cerberus Hemisphere Enhanced</h3>, <h3>Schiaparelli Hemisphere Enhanced</h3>, <h3>Syrtis Major Hemisphere Enhanced</h3>, <h3>Valles Marineris Hemisphere Enhanced</h3>]\n"
     ]
    }
   ],
   "source": [
    "hem = 'https://astrogeology.usgs.gov/search/results?q=hemisphere+enhanced&k1=target&v1=Mars'\n",
    "browser.visit(hem)\n",
    "\n",
    "html = browser.html\n",
    "hem_soup = bs(html, 'html.parser')\n",
    "\n",
    "    \n",
    "mars_dic = {}\n",
    "mars_url_links = []\n",
    "results = hem_soup('h3')\n",
    "\n",
    "for result in results:\n",
    "    item = result.text\n",
    "    \n",
    "    browser.click_link_by_partial_text(item)\n",
    "\n",
    "    \n",
    "    xhtml = browser.html\n",
    "    soup2 = bs(xhtml, 'html.parser')\n",
    "    \n",
    "    link = soup2.find_all('div', class_=\"downloads\")[0].find_all('a')[0].get(\"href\")\n",
    "    \n",
    "    mars_dic[\"title\"] = item\n",
    "    mars_dic[\"img_url\"] = link\n",
    "    \n",
    "    mars_url_links.append(mars_dic)\n",
    "    \n",
    "    mars_dic = {}\n",
    "    \n",
    "    browser.click_link_by_partial_text('Back')\n",
    "\n",
    "print(results)"
   ]
  },
  {
   "cell_type": "code",
   "execution_count": null,
   "metadata": {},
   "outputs": [],
   "source": []
  },
  {
   "cell_type": "code",
   "execution_count": null,
   "metadata": {},
   "outputs": [],
   "source": []
  }
 ],
 "metadata": {
  "kernelspec": {
   "display_name": "Python 3",
   "language": "python",
   "name": "python3"
  },
  "language_info": {
   "codemirror_mode": {
    "name": "ipython",
    "version": 3
   },
   "file_extension": ".py",
   "mimetype": "text/x-python",
   "name": "python",
   "nbconvert_exporter": "python",
   "pygments_lexer": "ipython3",
   "version": "3.6.5"
  }
 },
 "nbformat": 4,
 "nbformat_minor": 2
}
